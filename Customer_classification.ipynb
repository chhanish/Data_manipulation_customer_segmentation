{
  "nbformat": 4,
  "nbformat_minor": 0,
  "metadata": {
    "colab": {
      "provenance": [],
      "authorship_tag": "ABX9TyM8ND+epd/PXeoNgin9u+jo",
      "include_colab_link": true
    },
    "kernelspec": {
      "name": "python3",
      "display_name": "Python 3"
    },
    "language_info": {
      "name": "python"
    }
  },
  "cells": [
    {
      "cell_type": "markdown",
      "metadata": {
        "id": "view-in-github",
        "colab_type": "text"
      },
      "source": [
        "<a href=\"https://colab.research.google.com/github/chhanish/Data_manipulation_customer_segmentation/blob/main/Customer_classification.ipynb\" target=\"_parent\"><img src=\"https://colab.research.google.com/assets/colab-badge.svg\" alt=\"Open In Colab\"/></a>"
      ]
    },
    {
      "cell_type": "code",
      "execution_count": null,
      "metadata": {
        "colab": {
          "base_uri": "https://localhost:8080/",
          "height": 122
        },
        "id": "oHylOaPDWcno",
        "outputId": "47d35e40-6dc7-413f-f403-53ab79ae14e4"
      },
      "outputs": [
        {
          "output_type": "error",
          "ename": "SyntaxError",
          "evalue": "Missing parentheses in call to 'print'. Did you mean print(...)? (<ipython-input-3-2821c28ce9e3>, line 1)",
          "traceback": [
            "\u001b[0;36m  File \u001b[0;32m\"<ipython-input-3-2821c28ce9e3>\"\u001b[0;36m, line \u001b[0;32m1\u001b[0m\n\u001b[0;31m    print head of the customer classification csv fule\u001b[0m\n\u001b[0m    ^\u001b[0m\n\u001b[0;31mSyntaxError\u001b[0m\u001b[0;31m:\u001b[0m Missing parentheses in call to 'print'. Did you mean print(...)?\n"
          ]
        }
      ],
      "source": [
        "print first\n",
        "\n"
      ]
    },
    {
      "cell_type": "code",
      "source": [
        "import pandas as pd\n",
        "\n",
        "customer_names = pd.read_csv('/content/Customer_Classification.csv')\n",
        "print(customer_names.head())"
      ],
      "metadata": {
        "colab": {
          "base_uri": "https://localhost:8080/"
        },
        "id": "jsF-gxIdWpzw",
        "outputId": "7810f8cb-51e9-4884-a8eb-b22c99ea2c2a"
      },
      "execution_count": null,
      "outputs": [
        {
          "output_type": "stream",
          "name": "stdout",
          "text": [
            "            CustName_BillTo\n",
            "0             GTL TRANS INC\n",
            "1             MSC TRANSPORT\n",
            "2  INTERSTATE TRUCK TRAILER\n",
            "3        TRAVELER TRANSPORT\n",
            "4              ETT TRUCKING\n"
          ]
        }
      ]
    },
    {
      "cell_type": "code",
      "source": [
        "from collections import defaultdict\n",
        "import re\n",
        "\n",
        "\n",
        "def classify_customers(customers):\n",
        "    # Dictionary to keep track of classifications\n",
        "    classifications = defaultdict(set)\n",
        "\n",
        "    # Iterate over all customer names\n",
        "    for name in customers:\n",
        "        # Find all words in the name\n",
        "        words = set(re.findall(r'\\b\\w+\\b', name))\n",
        "\n",
        "        # Create a key for the classification based on sorted words\n",
        "        key = tuple(sorted(words))\n",
        "\n",
        "        # Add the name to the classification set identified by the key\n",
        "        classifications[key].add(name)\n",
        "\n",
        "    # Prepare the output format\n",
        "    classified_customers = {min(names): list(names) for names in classifications.values()}\n",
        "    return classified_customers\n",
        "\n",
        "classified_customers = classify_customers(customer_names)\n",
        "\n",
        "# Write output to a file\n",
        "with open(\"classified_customers.csv\", \"w\") as f:\n",
        "    f.write(\"Main Customer Name,Classified Customers\\n\")\n",
        "    for main_name, names in classified_customers.items():\n",
        "        f.write(f'\"{main_name}\",\"{\", \".join(names)}\"\\n')\n",
        "\n",
        "print(\"Classification completed and written to 'classified_customers.csv'\")"
      ],
      "metadata": {
        "colab": {
          "base_uri": "https://localhost:8080/"
        },
        "id": "1jOVMR4mXHzE",
        "outputId": "7b17778d-0f68-442e-9f20-5bbee1dcec8f"
      },
      "execution_count": null,
      "outputs": [
        {
          "output_type": "stream",
          "name": "stdout",
          "text": [
            "Classification completed and written to 'classified_customers.csv'\n"
          ]
        }
      ]
    },
    {
      "cell_type": "code",
      "source": [
        "classified_customers_names = pd.read_csv('/content/classified_customers.csv')\n",
        "print(classified_customers_names.head())"
      ],
      "metadata": {
        "colab": {
          "base_uri": "https://localhost:8080/"
        },
        "id": "OZ1X-57wXT1A",
        "outputId": "1c0fa84f-5cd0-4b8c-896f-e8189161e8bd"
      },
      "execution_count": null,
      "outputs": [
        {
          "output_type": "stream",
          "name": "stdout",
          "text": [
            "  Main Customer Name Classified Customers\n",
            "0    CustName_BillTo      CustName_BillTo\n"
          ]
        }
      ]
    },
    {
      "cell_type": "code",
      "source": [
        "from collections import defaultdict\n",
        "import re\n",
        "\n",
        "# Sample input (replace this with reading from your file)\n",
        "customer_names = [\n",
        "    \"GTL TRANS INC\",\n",
        "    \"MSC TRANSPORT\",\n",
        "    \"INTERSTATE TRUCK TRAILER\",\n",
        "    \"TRAVELER TRANSPORT\",\n",
        "    \"ETT TRUCKING\",\n",
        "    \"A1 TREE BOYZ\",\n",
        "    \"NINE STARS SOLUTIONS\",\n",
        "    \"JUSTIN WELLS NEWAND\",\n",
        "    \"ADAM VALLEY FARMS\",\n",
        "    # ... (rest of the names)\n",
        "]\n",
        "\n",
        "def classify_customers(customers):\n",
        "    # Dictionary to keep track of classifications\n",
        "    word_to_names = defaultdict(set)\n",
        "\n",
        "    # Iterate over all customer names\n",
        "    for name in customers:\n",
        "        # Find all words in the name\n",
        "        words = set(re.findall(r'\\b\\w+\\b', name.lower()))\n",
        "\n",
        "        # Map each word to the customer name\n",
        "        for word in words:\n",
        "            word_to_names[word].add(name)\n",
        "\n",
        "    # Combine names with shared words\n",
        "    classified = defaultdict(set)\n",
        "    for names in word_to_names.values():\n",
        "        if names:\n",
        "            # Use the first name as the key for the group\n",
        "            main_name = min(names)\n",
        "            classified[main_name].update(names)\n",
        "\n",
        "    # Prepare the output format\n",
        "    classified_customers = {main_name: list(names) for main_name, names in classified.items()}\n",
        "    return classified_customers\n",
        "\n",
        "classified_customers = classify_customers(customer_names)\n",
        "\n",
        "# Write output to a file\n",
        "with open(\"classified_customers.csv\", \"w\") as f:\n",
        "    f.write(\"Main Customer Name,Classified Customers\\n\")\n",
        "    for main_name, names in classified_customers.items():\n",
        "        f.write(f'\"{main_name}\",\"{\", \".join(names)}\"\\n')\n",
        "\n",
        "print(\"Classification completed and written to 'classified_customers.csv'\")"
      ],
      "metadata": {
        "colab": {
          "base_uri": "https://localhost:8080/"
        },
        "id": "K00IoA8PX_HZ",
        "outputId": "153bc78c-4050-45df-d081-9d8ea9ba2677"
      },
      "execution_count": null,
      "outputs": [
        {
          "output_type": "stream",
          "name": "stdout",
          "text": [
            "Classification completed and written to 'classified_customers.csv'\n"
          ]
        }
      ]
    },
    {
      "cell_type": "code",
      "source": [
        "classified_customers_names = pd.read_csv('/content/classified_customers.csv')\n",
        "print(classified_customers_names.head())"
      ],
      "metadata": {
        "id": "nyrdOae1YPy2",
        "outputId": "55305984-3b76-4c50-992c-5ee1e970177f",
        "colab": {
          "base_uri": "https://localhost:8080/"
        }
      },
      "execution_count": null,
      "outputs": [
        {
          "output_type": "stream",
          "name": "stdout",
          "text": [
            "         Main Customer Name               Classified Customers\n",
            "0             GTL TRANS INC                      GTL TRANS INC\n",
            "1             MSC TRANSPORT  MSC TRANSPORT, TRAVELER TRANSPORT\n",
            "2  INTERSTATE TRUCK TRAILER           INTERSTATE TRUCK TRAILER\n",
            "3        TRAVELER TRANSPORT                 TRAVELER TRANSPORT\n",
            "4              ETT TRUCKING                       ETT TRUCKING\n"
          ]
        }
      ]
    },
    {
      "cell_type": "code",
      "source": [
        "nums=[1,2,3,4,5,65]\n",
        "for i in range(len(nums)):\n",
        "  print(i)\n"
      ],
      "metadata": {
        "id": "xsFPdjJDYR1-",
        "colab": {
          "base_uri": "https://localhost:8080/"
        },
        "outputId": "e10d3cee-84c4-4333-ff1a-0f27e383cbac"
      },
      "execution_count": null,
      "outputs": [
        {
          "output_type": "stream",
          "name": "stdout",
          "text": [
            "0\n",
            "1\n",
            "2\n",
            "3\n",
            "4\n",
            "5\n"
          ]
        }
      ]
    },
    {
      "cell_type": "code",
      "source": [],
      "metadata": {
        "id": "hydRd-9DQnSV"
      },
      "execution_count": null,
      "outputs": []
    }
  ]
}